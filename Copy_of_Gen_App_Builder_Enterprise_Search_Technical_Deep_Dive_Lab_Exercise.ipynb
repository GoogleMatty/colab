{
  "cells": [
    {
      "cell_type": "markdown",
      "id": "07798920-bf43-4019-b51f-d4307d4abcf1",
      "metadata": {
        "id": "07798920-bf43-4019-b51f-d4307d4abcf1"
      },
      "source": [
        "# Gen App Builder - Enterprise Search - Technical Deep Dive - Lab Exercise\n",
        "\n",
        "The purpose of this lab is to explore the use of the client libraries and APIs in Gen App Builder and the Langchain LLM integrations and retrievers for Enterprise Search and Vertex AI.\n",
        "\n",
        "You'll use these tools to build a question and answer service that takes a user query, retrieves relevant documents from a search data store in Gen App Builder, then returns an LLM-generated answer to the original query along with source documents that were used to generate the answer.\n",
        "\n",
        "Helpful resources for the lab coding exercise:\n",
        "\n",
        "- [Gen App Builder Code Samples (Documentation)](https://cloud.google.com/generative-ai-app-builder/docs/samples)\n",
        "- [Question Answering Over Documents (GitHub)](https://github.com/GoogleCloudPlatform/generative-ai/blob/main/gen-app-builder/retrieval-augmented-generation/examples/question_answering.ipynb)\n",
        "- [Grounding Generative AI using Enterprise Search Results (Colab)](https://colab.research.google.com/drive/174YYPNNy1rWdIFvV-_LWZ-cueRB7Q6EC?resourcekey=0-9bYTUjXMbEkHIuduaNjNJw&usp=sharing)\n",
        "- [Gen App Builder - Search Web App (GitHub)](https://github.com/GoogleCloudPlatform/generative-ai/tree/main/gen-app-builder/search-web-app)\n",
        "\n",
        "# Coding exercise (Technical asset)\n",
        "\n",
        "## Step 1\n",
        "\n",
        "Follow the steps to [create a unstructured data search app that uses the Alphabet Investors PDFs data](https://cloud.google.com/generative-ai-app-builder/docs/try-enterprise-search#create_and_preview_an_unstructured_data_search_app)"
      ]
    },
    {
      "cell_type": "markdown",
      "id": "a39aeb7a-c5b6-4086-9045-3811ea41f878",
      "metadata": {
        "id": "a39aeb7a-c5b6-4086-9045-3811ea41f878"
      },
      "source": [
        "## Step 2\n",
        "\n",
        "Install the Enterprise Search, Vertex AI, and Langchain 0.0.236 (newer versions are broken as of 2023-08-10) client libraries for Python:"
      ]
    },
    {
      "cell_type": "code",
      "execution_count": 1,
      "id": "748b3fc0-05b8-4177-aac1-1122c1eda481",
      "metadata": {
        "id": "748b3fc0-05b8-4177-aac1-1122c1eda481",
        "colab": {
          "base_uri": "https://localhost:8080/"
        },
        "outputId": "fb90853e-cdf9-498d-85ff-97c58dee41cf"
      },
      "outputs": [
        {
          "output_type": "stream",
          "name": "stdout",
          "text": [
            "\u001b[2K     \u001b[90m━━━━━━━━━━━━━━━━━━━━━━━━━━━━━━━━━━━━━━━━\u001b[0m \u001b[32m918.2/918.2 kB\u001b[0m \u001b[31m11.4 MB/s\u001b[0m eta \u001b[36m0:00:00\u001b[0m\n",
            "\u001b[2K     \u001b[90m━━━━━━━━━━━━━━━━━━━━━━━━━━━━━━━━━━━━━━━━\u001b[0m \u001b[32m1.3/1.3 MB\u001b[0m \u001b[31m17.6 MB/s\u001b[0m eta \u001b[36m0:00:00\u001b[0m\n",
            "\u001b[2K     \u001b[90m━━━━━━━━━━━━━━━━━━━━━━━━━━━━━━━━━━━━━━━━\u001b[0m \u001b[32m2.0/2.0 MB\u001b[0m \u001b[31m27.9 MB/s\u001b[0m eta \u001b[36m0:00:00\u001b[0m\n",
            "\u001b[2K     \u001b[90m━━━━━━━━━━━━━━━━━━━━━━━━━━━━━━━━━━━━━━━━\u001b[0m \u001b[32m90.0/90.0 kB\u001b[0m \u001b[31m11.5 MB/s\u001b[0m eta \u001b[36m0:00:00\u001b[0m\n",
            "\u001b[2K     \u001b[90m━━━━━━━━━━━━━━━━━━━━━━━━━━━━━━━━━━━━━━━━\u001b[0m \u001b[32m49.4/49.4 kB\u001b[0m \u001b[31m6.1 MB/s\u001b[0m eta \u001b[36m0:00:00\u001b[0m\n",
            "\u001b[?25h\u001b[31mERROR: pip's dependency resolver does not currently take into account all the packages that are installed. This behaviour is the source of the following dependency conflicts.\n",
            "lida 0.0.10 requires fastapi, which is not installed.\n",
            "lida 0.0.10 requires kaleido, which is not installed.\n",
            "lida 0.0.10 requires python-multipart, which is not installed.\n",
            "lida 0.0.10 requires uvicorn, which is not installed.\u001b[0m\u001b[31m\n",
            "\u001b[0m"
          ]
        }
      ],
      "source": [
        "# Install packages\n",
        "# Note: You might need to restart the runtime after installing these packages\n",
        "!pip install google-cloud-discoveryengine google-cloud-aiplatform langchain==0.0.236 \"shapely<2.0.0\" -q"
      ]
    },
    {
      "cell_type": "code",
      "source": [
        "# Note: This Colab notebook should be running as a user that has access to the project that contains your search app\n",
        "\n",
        "import os\n",
        "import sys\n",
        "\n",
        "if \"google.colab\" in sys.modules:\n",
        "    from google.colab import auth as google_auth\n",
        "\n",
        "    google_auth.authenticate_user()"
      ],
      "metadata": {
        "id": "inIUNlEGYdoa"
      },
      "id": "inIUNlEGYdoa",
      "execution_count": null,
      "outputs": []
    },
    {
      "cell_type": "code",
      "execution_count": null,
      "id": "5cc27275-46ce-4455-93e2-3fb4798e0a00",
      "metadata": {
        "id": "5cc27275-46ce-4455-93e2-3fb4798e0a00"
      },
      "outputs": [],
      "source": [
        "from os.path import basename\n",
        "from typing import Dict, List, Optional, Tuple, Any"
      ]
    },
    {
      "cell_type": "markdown",
      "id": "f45fbdee-f84f-4b2b-856f-92c665b12667",
      "metadata": {
        "id": "f45fbdee-f84f-4b2b-856f-92c665b12667"
      },
      "source": [
        "## Step 3\n",
        "\n",
        "Use the [Enterprise Search document retriever in LangChain](https://python.langchain.com/docs/integrations/retrievers/google_cloud_enterprise_search) to retrieve documents from your data store based on a query.\n",
        "\n",
        "Sample query: “What are Alphabet's social and environmental impact?”"
      ]
    },
    {
      "cell_type": "code",
      "execution_count": null,
      "id": "ab5bfaf5-afb2-4aab-93ab-dbe4018b62ee",
      "metadata": {
        "id": "ab5bfaf5-afb2-4aab-93ab-dbe4018b62ee"
      },
      "outputs": [],
      "source": [
        "PROJECT_ID = \"your-project-id\"\n",
        "LOCATION = \"your-desired-location\"  # e.g., \"us-central1\"\n",
        "DATA_STORE_ID = \"your-data-store-id\"  # e.g., \"investor-pdfs_1791245104861\""
      ]
    },
    {
      "cell_type": "code",
      "execution_count": null,
      "id": "4412c8ca-4b7e-44d2-8678-27abe92cab64",
      "metadata": {
        "id": "4412c8ca-4b7e-44d2-8678-27abe92cab64"
      },
      "outputs": [],
      "source": [
        "from google.cloud import discoveryengine_v1beta as discoveryengine\n",
        "from langchain.retrievers import GoogleCloudEnterpriseSearchRetriever\n",
        "\n",
        "QUERY = \"What are Alphabet's social and environmental impact?\"\n",
        "\n",
        "# Code your solution here"
      ]
    },
    {
      "cell_type": "markdown",
      "id": "22426eb0-0b76-4784-90d2-3f6dda60ec12",
      "metadata": {
        "id": "22426eb0-0b76-4784-90d2-3f6dda60ec12"
      },
      "source": [
        "## Step 4\n",
        "\n",
        "Given a search query, use [Langchain's LLM integration with Vertex AI](https://python.langchain.com/docs/integrations/llms/google_vertex_ai_palm) to send a search query and return an answer with source documents\n",
        "\n",
        "Hint: Use [RetrievalQAWithSourcesChain](https://github.com/GoogleCloudPlatform/generative-ai/blob/main/gen-app-builder/retrieval-augmented-generation/examples/question_answering.ipynb) and refer to the “Helpful resources” at the top of this notebook!\n",
        "\n",
        "Sample query: “Who is the CEO of DeepMind?”"
      ]
    },
    {
      "cell_type": "code",
      "execution_count": null,
      "id": "42594d94-5c92-4491-adb4-4b8f7e891e70",
      "metadata": {
        "id": "42594d94-5c92-4491-adb4-4b8f7e891e70"
      },
      "outputs": [],
      "source": [
        "import vertexai\n",
        "from langchain.llms import VertexAI\n",
        "from langchain.retrievers import GoogleCloudEnterpriseSearchRetriever\n",
        "\n",
        "# Code your solution here"
      ]
    },
    {
      "cell_type": "markdown",
      "source": [
        "# Questions and answers (Use case asset)\n",
        "\n",
        "### **Question 1**\n",
        "\n",
        "What are the pros and cons of using Langchain vs. the native client libraries for Vertex AI and Enterprise Search?\n",
        "\n",
        "### **Answer 1**\n",
        "\n",
        "*Insert your answer here*"
      ],
      "metadata": {
        "id": "VIJGHHH8p7Oy"
      },
      "id": "VIJGHHH8p7Oy"
    },
    {
      "cell_type": "markdown",
      "source": [
        "### **Question 2**\n",
        "\n",
        "In the lab coding exercise, what is the benefit of using a Langchain retriever with Enterprise Search in the chain as opposed to just asking an LLM directly?\n",
        "\n",
        "### **Answer 2**\n",
        "\n",
        "*Insert your answer here*"
      ],
      "metadata": {
        "id": "_4Y3Ue4vqtS7"
      },
      "id": "_4Y3Ue4vqtS7"
    },
    {
      "cell_type": "markdown",
      "source": [
        "### **Question 3**\n",
        "\n",
        "What are the benefits and risks of using a custom/DIY approach with Langchain on top of Enterprise Search?\n",
        "\n",
        "### **Answer 3**\n",
        "\n",
        "*Insert your answer here*"
      ],
      "metadata": {
        "id": "QQ6hgNCRqtiI"
      },
      "id": "QQ6hgNCRqtiI"
    }
  ],
  "metadata": {
    "kernelspec": {
      "display_name": "Python 3 (ipykernel)",
      "language": "python",
      "name": "python3"
    },
    "language_info": {
      "codemirror_mode": {
        "name": "ipython",
        "version": 3
      },
      "file_extension": ".py",
      "mimetype": "text/x-python",
      "name": "python",
      "nbconvert_exporter": "python",
      "pygments_lexer": "ipython3",
      "version": "3.10.6"
    },
    "colab": {
      "provenance": []
    }
  },
  "nbformat": 4,
  "nbformat_minor": 5
}