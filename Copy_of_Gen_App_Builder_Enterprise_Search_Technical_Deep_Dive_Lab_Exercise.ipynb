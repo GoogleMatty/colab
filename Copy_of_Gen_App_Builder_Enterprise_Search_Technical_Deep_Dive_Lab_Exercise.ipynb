{
  "cells": [
    {
      "cell_type": "markdown",
      "id": "07798920-bf43-4019-b51f-d4307d4abcf1",
      "metadata": {
        "id": "07798920-bf43-4019-b51f-d4307d4abcf1"
      },
      "source": [
        "# Gen App Builder - Enterprise Search - Technical Deep Dive - Lab Exercise\n",
        "\n",
        "The purpose of this lab is to explore the use of the client libraries and APIs in Gen App Builder and the Langchain LLM integrations and retrievers for Enterprise Search and Vertex AI.\n",
        "\n",
        "You'll use these tools to build a question and answer service that takes a user query, retrieves relevant documents from a search data store in Gen App Builder, then returns an LLM-generated answer to the original query along with source documents that were used to generate the answer.\n",
        "\n",
        "Helpful resources for the lab coding exercise:\n",
        "\n",
        "- [Gen App Builder Code Samples (Documentation)](https://cloud.google.com/generative-ai-app-builder/docs/samples)\n",
        "- [Question Answering Over Documents (GitHub)](https://github.com/GoogleCloudPlatform/generative-ai/blob/main/gen-app-builder/retrieval-augmented-generation/examples/question_answering.ipynb)\n",
        "- [Grounding Generative AI using Enterprise Search Results (Colab)](https://colab.research.google.com/drive/174YYPNNy1rWdIFvV-_LWZ-cueRB7Q6EC?resourcekey=0-9bYTUjXMbEkHIuduaNjNJw&usp=sharing)\n",
        "- [Gen App Builder - Search Web App (GitHub)](https://github.com/GoogleCloudPlatform/generative-ai/tree/main/gen-app-builder/search-web-app)\n",
        "\n",
        "# Coding exercise (Technical asset)\n",
        "\n",
        "## Step 1\n",
        "\n",
        "Follow the steps to [create a unstructured data search app that uses the Alphabet Investors PDFs data](https://cloud.google.com/generative-ai-app-builder/docs/try-enterprise-search#create_and_preview_an_unstructured_data_search_app)"
      ]
    },
    {
      "cell_type": "markdown",
      "id": "a39aeb7a-c5b6-4086-9045-3811ea41f878",
      "metadata": {
        "id": "a39aeb7a-c5b6-4086-9045-3811ea41f878"
      },
      "source": [
        "## Step 2\n",
        "\n",
        "Install the Enterprise Search, Vertex AI, and Langchain 0.0.236 (newer versions are broken as of 2023-08-10) client libraries for Python:"
      ]
    },
    {
      "cell_type": "code",
      "execution_count": 1,
      "id": "748b3fc0-05b8-4177-aac1-1122c1eda481",
      "metadata": {
        "id": "748b3fc0-05b8-4177-aac1-1122c1eda481",
        "colab": {
          "base_uri": "https://localhost:8080/"
        },
        "outputId": "f45b25ce-5395-45d0-f86a-134aef3dcb48"
      },
      "outputs": [
        {
          "output_type": "stream",
          "name": "stdout",
          "text": [
            "\u001b[2K     \u001b[90m━━━━━━━━━━━━━━━━━━━━━━━━━━━━━━━━━━━━━━━━\u001b[0m \u001b[32m918.2/918.2 kB\u001b[0m \u001b[31m6.4 MB/s\u001b[0m eta \u001b[36m0:00:00\u001b[0m\n",
            "\u001b[2K     \u001b[90m━━━━━━━━━━━━━━━━━━━━━━━━━━━━━━━━━━━━━━━━\u001b[0m \u001b[32m1.3/1.3 MB\u001b[0m \u001b[31m29.3 MB/s\u001b[0m eta \u001b[36m0:00:00\u001b[0m\n",
            "\u001b[2K     \u001b[90m━━━━━━━━━━━━━━━━━━━━━━━━━━━━━━━━━━━━━━━━\u001b[0m \u001b[32m2.0/2.0 MB\u001b[0m \u001b[31m39.7 MB/s\u001b[0m eta \u001b[36m0:00:00\u001b[0m\n",
            "\u001b[2K     \u001b[90m━━━━━━━━━━━━━━━━━━━━━━━━━━━━━━━━━━━━━━━━\u001b[0m \u001b[32m90.0/90.0 kB\u001b[0m \u001b[31m7.9 MB/s\u001b[0m eta \u001b[36m0:00:00\u001b[0m\n",
            "\u001b[2K     \u001b[90m━━━━━━━━━━━━━━━━━━━━━━━━━━━━━━━━━━━━━━━━\u001b[0m \u001b[32m49.4/49.4 kB\u001b[0m \u001b[31m5.1 MB/s\u001b[0m eta \u001b[36m0:00:00\u001b[0m\n",
            "\u001b[?25h\u001b[31mERROR: pip's dependency resolver does not currently take into account all the packages that are installed. This behaviour is the source of the following dependency conflicts.\n",
            "lida 0.0.10 requires fastapi, which is not installed.\n",
            "lida 0.0.10 requires kaleido, which is not installed.\n",
            "lida 0.0.10 requires python-multipart, which is not installed.\n",
            "lida 0.0.10 requires uvicorn, which is not installed.\u001b[0m\u001b[31m\n",
            "\u001b[0m"
          ]
        }
      ],
      "source": [
        "# Install packages\n",
        "# Note: You might need to restart the runtime after installing these packages\n",
        "!pip install google-cloud-discoveryengine google-cloud-aiplatform langchain==0.0.236 \"shapely<2.0.0\" -q"
      ]
    },
    {
      "cell_type": "code",
      "source": [
        "# Note: This Colab notebook should be running as a user that has access to the project that contains your search app\n",
        "\n",
        "import os\n",
        "import sys\n",
        "\n",
        "if \"google.colab\" in sys.modules:\n",
        "    from google.colab import auth as google_auth\n",
        "\n",
        "    google_auth.authenticate_user()"
      ],
      "metadata": {
        "id": "inIUNlEGYdoa"
      },
      "id": "inIUNlEGYdoa",
      "execution_count": 2,
      "outputs": []
    },
    {
      "cell_type": "code",
      "execution_count": 3,
      "id": "5cc27275-46ce-4455-93e2-3fb4798e0a00",
      "metadata": {
        "id": "5cc27275-46ce-4455-93e2-3fb4798e0a00"
      },
      "outputs": [],
      "source": [
        "from os.path import basename\n",
        "from typing import Dict, List, Optional, Tuple, Any"
      ]
    },
    {
      "cell_type": "markdown",
      "id": "f45fbdee-f84f-4b2b-856f-92c665b12667",
      "metadata": {
        "id": "f45fbdee-f84f-4b2b-856f-92c665b12667"
      },
      "source": [
        "## Step 3\n",
        "\n",
        "Use the [Enterprise Search document retriever in LangChain](https://python.langchain.com/docs/integrations/retrievers/google_cloud_enterprise_search) to retrieve documents from your data store based on a query.\n",
        "\n",
        "Sample query: “What are Alphabet's social and environmental impact?”"
      ]
    },
    {
      "cell_type": "code",
      "execution_count": 15,
      "id": "ab5bfaf5-afb2-4aab-93ab-dbe4018b62ee",
      "metadata": {
        "id": "ab5bfaf5-afb2-4aab-93ab-dbe4018b62ee"
      },
      "outputs": [],
      "source": [
        "PROJECT_ID = \"genai-ml-project\"\n",
        "LOCATION = \"us\"  # e.g., \"us-central1\"\n",
        "DATA_STORE_ID = \"alphainvest_1701858245424\"  # e.g., \"investor-pdfs_1791245104861\""
      ]
    },
    {
      "cell_type": "code",
      "execution_count": 31,
      "id": "4412c8ca-4b7e-44d2-8678-27abe92cab64",
      "metadata": {
        "id": "4412c8ca-4b7e-44d2-8678-27abe92cab64",
        "colab": {
          "base_uri": "https://localhost:8080/"
        },
        "outputId": "d22d6c15-1762-410d-b2f7-717ee716ac59"
      },
      "outputs": [
        {
          "output_type": "stream",
          "name": "stdout",
          "text": [
            "page_content='Culture and Workforce\\nWe’re a company of curious, talented and passionate people. We embrace collaboration and creativity, and encourage the iteration\\nof ideas to address complex challenges in technology and society.\\nOur people are critical for our continued success. We work hard to provide an environment where Googlers can have fulfilling careers,\\nand be happy, healthy and productive. We offer industry-leading benefits and programs to take care of the diverse needs of our\\nemployees and their families, including access to excellent healthcare choices, opportunities for career growth and development,\\nand resources to support their financial health. Our competitive compensation programs help us to attract and retain top candidates,\\nand we will continue to invest in recruiting talented people to technical and non-technical roles and rewarding them well.\\nAlphabet is committed to making diversity, equity, and inclusion part of everything we do and we’re committed to growing a workforce\\nthat’s representative of the users we serve. More information on Google’s approach to diversity can be found in our annual diversity\\nreports, available publicly at diversity.google. The content of our diversity reports is not incorporated by reference into this Annual\\nReport on Form 10-K or in any other report or document we file with the SEC.\\nWe have work councils and statutory employee representation obligations in certain countries and we are committed to supporting\\nprotected labor rights, maintaining an open culture and listening to all Googlers. Supporting healthy and open dialogue is central\\nto how we work, and we communicate information about the company through multiple internal channels to our employees. As of\\nDecember 31, 2020, Alphabet had 135,301 employees.\\nWhen necessary, we contract with businesses around the world to provide specialized services where we don’t have appropriate\\nin-house expertise or resources, often in fields that require specialized training like cafe operations, customer support, content\\nmoderation and physical security. We also contract with temporary staffing agencies when we need to cover short-term leaves,\\nwhen we have spikes in business needs, or when we need to quickly incubate special projects. We choose our partners and staffing\\nagencies carefully, and review their compliance with Google’s Supplier Code of Conduct. We continually make improvements to\\npromote a respectful and positive working environment for everyone — employees, vendors and temporary staff alike.\\nGovernment Regulation\\nWe are subject to numerous U.S. federal, state, and foreign laws and regulations covering a wide variety of subject matters. Like\\nother companies in the technology industry, we face heightened scrutiny from both U.S. and foreign governments with respect to our\\ncompliance with laws and regulations.' metadata={'source': 'gs://cloud-samples-data/gen-app-builder/search/alphabet-investor-pdfs/2020_alphabet_annual_report.pdf', 'id': '8ee97504c0b398a2fb93ab7a7d6d8059'}\n",
            "page_content='\"Alphabet,\" \"Google,\" and other trademarks of ours appearing in this report are our property. This report contains\\nadditional trade names and trademarks of other companies. We do not intend our use or display of other companies\\'\\ntrade names or trademarks to imply an endorsement or sponsorship of us by such companies, or any relationship with\\nany of these companies.\\nPART I\\nITEM 1. BUSINESS\\nOverview\\nAs our founders Larry and Sergey wrote in the original founders\\' letter, \"Google is not a conventional company.\\nWe do not intend to become one.\" That unconventional spirit has been a driving force throughout our history, inspiring\\nus to tackle big problems and invest in moonshots like artificial intelligence (AI) research and quantum computing. We\\ncontinue this work under the leadership of Sundar Pichai, who has served as CEO of Google since 2015 and as CEO\\nof Alphabet since 2019.\\nAlphabet is a collection of businesses — the largest of which is Google. We report Google in two segments,\\nGoogle Services and Google Cloud; we also report all non-Google businesses collectively as Other Bets. Other Bets\\ninclude earlier stage technologies that are further afield from our core Google business. We take a long-term view and\\nmanage the portfolio of Other Bets with the discipline and rigor needed to deliver long-term returns. Alphabet\\'s\\nstructure is about helping each of our businesses prosper through strong leaders and independence.\\nAccess and technology for everyone\\nThe Internet is one of the world’s most powerful equalizers; it propels ideas, people and businesses large and\\nsmall. Our mission to organize the world’s information and make it universally accessible and useful is as relevant\\ntoday as it was when we were founded in 1998. Since then, we have evolved from a company that helps people find\\nanswers to a company that also helps people get things done.\\nWe are focused on building an even more helpful Google for everyone, and we aspire to give everyone the tools\\nthey need to increase their knowledge, health, happiness, and success. Every year, there are trillions of searches on\\nGoogle, and 15% of the searches we see every day are new. We continue to invest deeply in AI and other\\ntechnologies to ensure the most helpful search experience possible. YouTube provides people with entertainment,\\ninformation, and opportunities to learn something new. And Google Assistant offers the best way to get things done\\nseamlessly across different devices, providing intelligent help throughout a person\\'s day, no matter where they are.' metadata={'source': 'gs://cloud-samples-data/gen-app-builder/search/alphabet-investor-pdfs/20220202_alphabet_10K.pdf', 'id': '6b54401a15ed256af6c224a022afabde'}\n",
            "page_content='\"Alphabet,\" \"Google,\" and other trademarks of ours appearing in this report are our property. We do not intend our\\nuse or display of other companies\\' trade names or trademarks to imply an endorsement or sponsorship of us by such\\ncompanies, or any relationship with any of these companies.\\nPART I\\nITEM 1. BUSINESS\\nOverview\\nAs our founders Larry and Sergey wrote in the original founders\\' letter, \"Google is not a conventional company.\\nWe do not intend to become one.\" That unconventional spirit has been a driving force throughout our history, inspiring\\nus to tackle big problems and invest in moonshots, such as our long-term opportunities in artificial intelligence (AI). We\\ncontinue this work under the leadership of Alphabet and Google CEO Sundar Pichai.\\nAlphabet is a collection of businesses — the largest of which is Google. We report Google in two segments,\\nGoogle Services and Google Cloud; we also report all non-Google businesses collectively as Other Bets. Alphabet\\'s\\nstructure is about helping each of our businesses prosper through strong leaders and independence.\\nAccess and technology for everyone\\nThe Internet is one of the world’s most powerful equalizers; it propels ideas, people and businesses large and\\nsmall. Our mission to organize the world’s information and make it universally accessible and useful is as relevant\\ntoday as it was when we were founded in 1998. Since then, we have evolved from a company that helps people find\\nanswers to a company that also helps people get things done.\\nWe are focused on building an even more helpful Google for everyone, and we aspire to give everyone the tools\\nthey need to increase their knowledge, health, happiness, and success. Google Search helps people find information\\nand make sense of the world in more natural and intuitive ways, with trillions of searches on Google every year.\\nYouTube provides people with entertainment, information, and opportunities to learn something new. Google Assistant\\noffers the best way to get things done seamlessly across different devices, providing intelligent help throughout a\\nperson\\'s day, no matter where they are. Google Cloud helps customers solve today’s business challenges, improve\\nproductivity, reduce costs, and unlock new growth engines. We are continually innovating and building new products\\nand features that will help our users, partners, customers, and communities and have invested more than $100 billion\\nin research and development in the last five years in support of these efforts.\\n\\nTable of Contents\\n\\nAlphabet Inc.\\n\\n4' metadata={'source': 'gs://cloud-samples-data/gen-app-builder/search/alphabet-investor-pdfs/20230203_alphabet_10K.pdf', 'id': 'e528afa38b3a739bc98bfff0e840fe98'}\n"
          ]
        }
      ],
      "source": [
        "from google.cloud import discoveryengine_v1beta as discoveryengine\n",
        "from langchain.retrievers import GoogleCloudEnterpriseSearchRetriever\n",
        "\n",
        "QUERY = \"What are Alphabet's social and environmental impact?\"\n",
        "\n",
        "# Code your solution here\n",
        "\n",
        "retriever = GoogleCloudEnterpriseSearchRetriever(\n",
        "    project_id=PROJECT_ID,\n",
        "    search_engine_id=DATA_STORE_ID,\n",
        "    max_documents=3,\n",
        ")\n",
        "\n",
        "result = retriever.get_relevant_documents(QUERY)\n",
        "for doc in result:\n",
        "    print(doc)\n",
        ""
      ]
    },
    {
      "cell_type": "markdown",
      "id": "22426eb0-0b76-4784-90d2-3f6dda60ec12",
      "metadata": {
        "id": "22426eb0-0b76-4784-90d2-3f6dda60ec12"
      },
      "source": [
        "## Step 4\n",
        "\n",
        "Given a search query, use [Langchain's LLM integration with Vertex AI](https://python.langchain.com/docs/integrations/llms/google_vertex_ai_palm) to send a search query and return an answer with source documents\n",
        "\n",
        "Hint: Use [RetrievalQAWithSourcesChain](https://github.com/GoogleCloudPlatform/generative-ai/blob/main/gen-app-builder/retrieval-augmented-generation/examples/question_answering.ipynb) and refer to the “Helpful resources” at the top of this notebook!\n",
        "\n",
        "Sample query: “Who is the CEO of DeepMind?”"
      ]
    },
    {
      "cell_type": "code",
      "execution_count": 40,
      "id": "42594d94-5c92-4491-adb4-4b8f7e891e70",
      "metadata": {
        "id": "42594d94-5c92-4491-adb4-4b8f7e891e70",
        "colab": {
          "base_uri": "https://localhost:8080/"
        },
        "outputId": "14e1d2e6-bc1c-4c15-e702-e09994e52b39"
      },
      "outputs": [
        {
          "output_type": "execute_result",
          "data": {
            "text/plain": [
              "{'answer': 'DeepMind is a subsidiary of Alphabet. Sundar Pichai is the CEO of Alphabet.',\n",
              " 'sources': ''}"
            ]
          },
          "metadata": {},
          "execution_count": 40
        }
      ],
      "source": [
        "import vertexai\n",
        "from langchain.llms import VertexAI\n",
        "from langchain.retrievers import GoogleCloudEnterpriseSearchRetriever\n",
        "from langchain.chains import RetrievalQAWithSourcesChain\n",
        "\n",
        "PROJECT_ID = \"genai-ml-project\"\n",
        "LOCATION = \"us-central1\"  # e.g., \"us-central1\"\n",
        "DATA_STORE_ID = \"alphainvest_1701858245424\"  # e.g., \"investor-pdfs_1791245104861\"\n",
        "MODEL=\"text-bison@001\"\n",
        "\n",
        "\n",
        "QUERY=\"Who is the CEO of DeepMind?\"\n",
        "\n",
        "# Code your solution here\n",
        "vertexai.init(project=PROJECT_ID, location=LOCATION)\n",
        "\n",
        "llm = VertexAI(model_name=MODEL)\n",
        "\n",
        "retriever = GoogleCloudEnterpriseSearchRetriever(\n",
        "    project_id=PROJECT_ID,\n",
        "    search_engine_id=DATA_STORE_ID,\n",
        "    get_extractive_answers=True,\n",
        "    max_documents=10,\n",
        "    max_extractive_segment_count=1,\n",
        "    max_extractive_answer_count=5,\n",
        ")\n",
        "\n",
        "retrieval_qa_with_sources = RetrievalQAWithSourcesChain.from_chain_type(\n",
        "    llm=llm, chain_type=\"stuff\", retriever=retriever\n",
        ")\n",
        "\n",
        "retrieval_qa_with_sources({\"question\": QUERY}, return_only_outputs=True)\n",
        "\n"
      ]
    },
    {
      "cell_type": "markdown",
      "source": [
        "# Questions and answers (Use case asset)\n",
        "\n",
        "### **Question 1**\n",
        "\n",
        "What are the pros and cons of using Langchain vs. the native client libraries for Vertex AI and Enterprise Search?\n",
        "\n",
        "### **Answer 1**\n",
        "\n",
        "####Pros of Langchain####\n",
        "\n",
        "Langchain provides a single interface to interact with different AI APIs, reducing the need to learn and use multiple client libraries.\n",
        "\n",
        "Langchain abstracts away the underlying API details, simplifying development tasks.\n",
        "\n",
        "Langchain supports various data structures and workflows, offering more flexibility than native client libraries.\n",
        "\n",
        "Langchain has a growing community and offers tutorials and examples, making it easier to get started.\n",
        "\n",
        "Langchain integrates with popular tools and frameworks, such as Jupyter Notebook and TensorFlow, streamlining development workflows.\n",
        "\n",
        "####Cons of Langchain####\n",
        "\n",
        "Langchain is still under development, and its feature set may not be as mature as native client libraries.\n",
        "\n",
        "While Langchain's documentation is improving, it may not be as comprehensive as the documentation for native client libraries.\n",
        "\n",
        "While the Langchain community is growing, it may not be as large or active as the communities surrounding native client libraries.\n",
        "\n",
        "Langchain's abstraction can be beneficial, but it may also hide some of the underlying API details, making it harder for developers to understand the nuances of the APIs.\n",
        "\n",
        "Using Langchain adds an additional dependency to your project, which may not be ideal for all situations."
      ],
      "metadata": {
        "id": "VIJGHHH8p7Oy"
      },
      "id": "VIJGHHH8p7Oy"
    },
    {
      "cell_type": "markdown",
      "source": [
        "### **Question 2**\n",
        "\n",
        "In the lab coding exercise, what is the benefit of using a Langchain retriever with Enterprise Search in the chain as opposed to just asking an LLM directly?\n",
        "\n",
        "### **Answer 2**\n",
        "\n",
        "Enterprise Search specializes in indexing and searching enterprise data, which can be more accurate and factual than the broader knowledge base used by LLMs  and can provide specific grounding in an Enterprise Subject Matter Expertise.\n",
        "\n",
        "By first retrieving relevant documents from Enterprise Search, the LLM is provided with a more focused context and less prone to generating outputs based on incomplete or inaccurate information.\n",
        "\n",
        "Enterprise Search can be configured to restrict access to sensitive information, which can help to comply with security and privacy regulations.\n",
        "\n",
        "Enterprise Search can be scaled to handle large amounts of data, which can be important for organizations with large knowledge bases.\n"
      ],
      "metadata": {
        "id": "_4Y3Ue4vqtS7"
      },
      "id": "_4Y3Ue4vqtS7"
    },
    {
      "cell_type": "markdown",
      "source": [
        "### **Question 3**\n",
        "\n",
        "What are the benefits and risks of using a custom/DIY approach with Langchain on top of Enterprise Search?\n",
        "\n",
        "### **Answer 3**\n",
        "\n",
        "#### Benefits\n",
        "\n",
        "You have complete control over the retrieval process and can tailor it to your specific needs.\n",
        "\n",
        "Langchain provides a flexible framework that allows you to integrate with other tools and systems. This can be helpful for building custom applications and workflows.\n",
        "\n",
        "If you have the expertise and resources, a DIY approach can be more cost-effective than using a managed service or pre-built solution.\n",
        "\n",
        "You have full control over the data and how it is used, allowing for greater transparency and accountability.\n",
        "\n",
        "Building your own solution can be a valuable learning experience and contribute to your team's expertise in AI and search technologies.\n",
        "\n",
        "#### Risks\n",
        "\n",
        "Building and maintaining a custom solution can be complex and require significant technical expertise. This can lead to challenges in development, deployment, and ongoing maintenance.\n",
        "\n",
        "Developing and refining a custom solution can be time-consuming, especially for organizations with limited resources.\n",
        "\n",
        "Implementing custom security measures can be a challenge and may require additional effort to ensure data protection and compliance.\n",
        "\n",
        "Customized solutions are more prone to errors and bugs, which can negatively impact performance and accuracy.\n",
        "\n",
        "Unlike managed services, DIY solutions often lack readily available support options, making troubleshooting and issue resolution more challenging.\n"
      ],
      "metadata": {
        "id": "QQ6hgNCRqtiI"
      },
      "id": "QQ6hgNCRqtiI"
    }
  ],
  "metadata": {
    "kernelspec": {
      "display_name": "Python 3 (ipykernel)",
      "language": "python",
      "name": "python3"
    },
    "language_info": {
      "codemirror_mode": {
        "name": "ipython",
        "version": 3
      },
      "file_extension": ".py",
      "mimetype": "text/x-python",
      "name": "python",
      "nbconvert_exporter": "python",
      "pygments_lexer": "ipython3",
      "version": "3.10.6"
    },
    "colab": {
      "provenance": []
    }
  },
  "nbformat": 4,
  "nbformat_minor": 5
}